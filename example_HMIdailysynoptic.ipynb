{
 "cells": [
  {
   "cell_type": "code",
   "execution_count": 1,
   "id": "78320a4a-7cf1-49c3-a06c-8d7dd2549fde",
   "metadata": {},
   "outputs": [],
   "source": [
    "from astropy.io import fits\n",
    "import numpy as np\n",
    "import astropy.coordinates\n",
    "import astropy.units as u\n",
    "from functions_pickle import *\n",
    "import matplotlib.pyplot as plt\n",
    "import pfsspy\n",
    "\n",
    "import sunpy\n",
    "from sunpy.net import Fido,attrs as a"
   ]
  },
  {
   "cell_type": "code",
   "execution_count": null,
   "id": "233249f4-7fbb-4021-bf2d-9876bab0cc9a",
   "metadata": {},
   "outputs": [],
   "source": [
    "jsoc_email = ''"
   ]
  },
  {
   "cell_type": "code",
   "execution_count": null,
   "id": "5267277e-7a47-4b5e-af68-733301c2df2b",
   "metadata": {},
   "outputs": [],
   "source": [
    "res = Fido.search(a.Time('2011-04-15T00:00:00', '2011-04-16T00:00:00'),  \n",
    "                  a.jsoc.Series('hmi.mrdailysynframe_720s'),  \n",
    "                  a.jsoc.Notify(jsoc_email)\n",
    "                 )  \n",
    "downloaded_file = Fido.fetch(res)\n",
    "downloaded_file"
   ]
  },
  {
   "cell_type": "markdown",
   "id": "8fd17a67-9359-4a74-b935-deb99c104a31",
   "metadata": {},
   "source": [
    "Define new function to correct HMI daily synoptic map into something sunpy can read"
   ]
  },
  {
   "cell_type": "code",
   "execution_count": null,
   "id": "5ca85e10-6951-4221-b80e-de2f052d0c00",
   "metadata": {},
   "outputs": [],
   "source": [
    "def PrepHMIdaily(hmidailyfilepath, numpix_x=1080, numpix_y=540):\n",
    "    '''\n",
    "    Function to correct HMI daily synoptic to sunpy map.\n",
    "    This also resamples the map into a smaller dimension for quicker calculation.\n",
    "    '''\n",
    "    from astropy.io import fits\n",
    "    import numpy as np\n",
    "    import sunpy.map\n",
    "    import astropy.time\n",
    "    import matplotlib.pyplot as plt\n",
    "    import astropy.units as u\n",
    "    from sunpy.coordinates import sun\n",
    "\n",
    "\n",
    "    #Can load only hmi.mrdailysynframe_polfil using astropy.io.fits\n",
    "    hdus = fits.open(hmidailyfilepath)[0]\n",
    "    hdus.verify('fix')\n",
    "    #Metadata fixing\n",
    "    #Change sin(deg) to degree\n",
    "    # hdus.header[\"CUNIT1\"] = 'deg'\n",
    "    hdus.header[\"CUNIT2\"] = 'degree'\n",
    "    hdus.header[\"CDELT1\"] *= -1\n",
    "    print(hdus.header[\"CDELT2\"])\n",
    "    hdus.header[\"CDELT2\"] = 180 / np.pi * hdus.header[\"CDELT2\"]\n",
    "    # hdus.header[\"CRVAL1\"] = sun.L0(time=hdus.header[\"DATE-OBS\"],aberration_correction=True).value + 120\n",
    "\n",
    "    hdus.header[\"CRLN_OBS\"] = hdus.header[\"CRLN_OBS\"] +120\n",
    "    # hdus.header[\"RSUN_REF\"] = 6.955e8\n",
    "    # original rsun =. 695500000.0\n",
    "    del hdus.header[\"CRDER1\"]\n",
    "    del hdus.header[\"CRDER2\"]\n",
    "    del hdus.header[\"CSYSER1\"]\n",
    "    del hdus.header[\"CSYSER2\"]\n",
    "\n",
    "    hmi_syn_map = sunpy.map.Map(np.nan_to_num(hdus.data), hdus.header)\n",
    "    time = hmi_syn_map.meta['T_OBS'][0:10].replace('.','-')+'T'+hmi_syn_map.meta['T_OBS'][11:-4]\n",
    "    print(time)\n",
    "    \n",
    "    t_hmi_syn = astropy.time.Time(time, scale='tai')\n",
    "    hdus.header[\"DATE-OBS\"] = t_hmi_syn.utc.value\n",
    "    print(hdus.header[\"CRVAL1\"])\n",
    "    print(sun.L0(time=t_hmi_syn.utc.value).value)\n",
    "\n",
    "    hmi_syn_map = sunpy.map.Map(np.nan_to_num(hdus.data), hdus.header)\n",
    "    print(hdus.header[\"DATE-OBS\"])\n",
    "    # Somehow this weird combination works for correcting the HMI daily synoptic map\n",
    "    hmi_syn_map.meta[\"CRVAL1\"] = hdus.header['CRLN_OBS'] +hdus.header['CRLT_OBS']\n",
    "    # Plot settings\n",
    "    hmi_syn_map.plot_settings['norm'] =plt.Normalize(-200,200)\n",
    "\n",
    "#    #Resample to reduced computational time\n",
    "    print(hmi_syn_map.dimensions)\n",
    "    hmi_syn_map = hmi_syn_map.resample([numpix_x, numpix_y] * u.pix)## [longitude, latitude]\n",
    "\n",
    "    return hmi_syn_map"
   ]
  },
  {
   "cell_type": "markdown",
   "id": "1efc24ae-7760-4de3-8283-4d31572d3b9a",
   "metadata": {},
   "source": [
    "Using the above function to generate a sunpy HMI daily synoptic map"
   ]
  },
  {
   "cell_type": "code",
   "execution_count": null,
   "id": "bc420702-7b78-4ea5-b84e-f6af1f23819d",
   "metadata": {},
   "outputs": [],
   "source": [
    "hmi_syn = PrepHMIdaily(downloaded_file[0])"
   ]
  },
  {
   "cell_type": "markdown",
   "id": "d441f564-a9c1-4053-9fdd-c310e758fcf8",
   "metadata": {},
   "source": [
    "Setting seed points for PFSSpy to trace"
   ]
  },
  {
   "cell_type": "code",
   "execution_count": null,
   "id": "32fe009e-3aeb-4307-ba4d-d43476887525",
   "metadata": {},
   "outputs": [],
   "source": [
    "min_gauss = 100\n",
    "masked_pix_y, masked_pix_x = np.where(np.logical_or(hmi_syn.data >min_gauss,hmi_syn.data <-min_gauss))\n",
    "seeds = hmi_syn.pixel_to_world(masked_pix_x*u.pix, masked_pix_y*u.pix,).make_3d()\n",
    "seeds_hpc = seeds.transform_to(aia_submap.coordinate_frame)\n",
    "in_lon = np.logical_and(seeds_hpc.Tx > aia_submap.bottom_left_coord.Tx,\n",
    "                        seeds_hpc.Tx < aia_submap.top_right_coord.Tx)\n",
    "in_lat = np.logical_and(seeds_hpc.Ty > aia_submap.bottom_left_coord.Ty,\n",
    "                        seeds_hpc.Ty < aia_submap.top_right_coord.Ty)\n",
    "seeds_eis = seeds[np.where(np.logical_and(in_lon, in_lat))]\n",
    "seeds_eis = seeds_eis[np.where(np.logical_and(seeds_eis.lon.to_value()<360, seeds_eis.lon.to_value()>270))]"
   ]
  },
  {
   "cell_type": "markdown",
   "id": "2a58735e-840e-4bdc-9350-df02e0576579",
   "metadata": {},
   "source": [
    "Input synoptic map into pfsspy"
   ]
  },
  {
   "cell_type": "code",
   "execution_count": null,
   "id": "30e8789d-960f-49a5-9b2c-afc169612b23",
   "metadata": {},
   "outputs": [],
   "source": [
    "pfss_input = pfsspy.Input(hmi_syn, 70, 2.5)\n",
    "pfss_output = pfsspy.pfss(peri_input)"
   ]
  },
  {
   "cell_type": "code",
   "execution_count": null,
   "id": "d3fd9b1f-0894-44bb-a3f4-85f8329870e1",
   "metadata": {},
   "outputs": [],
   "source": [
    "tracer = pfsspy.tracing.FortranTracer()\n",
    "flines = tracer.trace(SkyCoord(seeds_eis), pfss_output)"
   ]
  },
  {
   "cell_type": "markdown",
   "id": "eb65050b-cfb8-4436-8c3c-55ea0180a86c",
   "metadata": {},
   "source": [
    "Calculating the total field strength along each loop"
   ]
  },
  {
   "cell_type": "code",
   "execution_count": null,
   "id": "41c4c0b5-d004-431b-adc4-806112441cf7",
   "metadata": {},
   "outputs": [],
   "source": [
    "from tqdm import tqdm\n",
    "total_flux=[]\n",
    "\n",
    "for i in tqdm(flines):\n",
    "    try:\n",
    "        total_flux.append(np.sum([(np.sum(b**2))**0.5 for b in i.b_along_fline]))\n",
    "    except:\n",
    "        pass"
   ]
  }
 ],
 "metadata": {
  "kernelspec": {
   "display_name": "Python 3 (ipykernel)",
   "language": "python",
   "name": "python3"
  },
  "language_info": {
   "codemirror_mode": {
    "name": "ipython",
    "version": 3
   },
   "file_extension": ".py",
   "mimetype": "text/x-python",
   "name": "python",
   "nbconvert_exporter": "python",
   "pygments_lexer": "ipython3",
   "version": "3.7.12"
  }
 },
 "nbformat": 4,
 "nbformat_minor": 5
}
